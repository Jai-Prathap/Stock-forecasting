{
  "nbformat": 4,
  "nbformat_minor": 0,
  "metadata": {
    "colab": {
      "name": "stock prediction.ipynb",
      "provenance": [],
      "collapsed_sections": []
    },
    "kernelspec": {
      "name": "python3",
      "display_name": "Python 3"
    },
    "language_info": {
      "name": "python"
    }
  },
  "cells": [
    {
      "cell_type": "code",
      "metadata": {
        "id": "TB528gBzGtKA"
      },
      "source": [
        "from  fbprophet import Prophet\n",
        "import pandas as pd\n",
        "import datetime as dt\n",
        "import matplotlib.pyplot as plt\n",
        "import pandas_datareader.data as reader"
      ],
      "execution_count": null,
      "outputs": []
    },
    {
      "cell_type": "code",
      "metadata": {
        "colab": {
          "base_uri": "https://localhost:8080/"
        },
        "id": "58zGcChIkAQN",
        "outputId": "d18a1898-cfc7-4ace-de09-b961d271ff3d"
      },
      "source": [
        "!pip install --upgrade pandas\n"
      ],
      "execution_count": null,
      "outputs": [
        {
          "output_type": "stream",
          "text": [
            "Requirement already satisfied: pandas in /usr/local/lib/python3.7/dist-packages (1.3.1)\n",
            "Requirement already satisfied: numpy>=1.17.3 in /usr/local/lib/python3.7/dist-packages (from pandas) (1.19.5)\n",
            "Requirement already satisfied: pytz>=2017.3 in /usr/local/lib/python3.7/dist-packages (from pandas) (2018.9)\n",
            "Requirement already satisfied: python-dateutil>=2.7.3 in /usr/local/lib/python3.7/dist-packages (from pandas) (2.8.1)\n",
            "Requirement already satisfied: six>=1.5 in /usr/local/lib/python3.7/dist-packages (from python-dateutil>=2.7.3->pandas) (1.15.0)\n"
          ],
          "name": "stdout"
        }
      ]
    },
    {
      "cell_type": "code",
      "metadata": {
        "colab": {
          "base_uri": "https://localhost:8080/"
        },
        "id": "jLGOLyDnkEBS",
        "outputId": "5bfa3964-eecf-419c-bc19-8a22dcb75fa8"
      },
      "source": [
        "!pip install --upgrade pandas-datareader"
      ],
      "execution_count": null,
      "outputs": [
        {
          "output_type": "stream",
          "text": [
            "Requirement already satisfied: pandas-datareader in /usr/local/lib/python3.7/dist-packages (0.10.0)\n",
            "Requirement already satisfied: pandas>=0.23 in /usr/local/lib/python3.7/dist-packages (from pandas-datareader) (1.3.1)\n",
            "Requirement already satisfied: requests>=2.19.0 in /usr/local/lib/python3.7/dist-packages (from pandas-datareader) (2.23.0)\n",
            "Requirement already satisfied: lxml in /usr/local/lib/python3.7/dist-packages (from pandas-datareader) (4.2.6)\n",
            "Requirement already satisfied: pytz>=2017.3 in /usr/local/lib/python3.7/dist-packages (from pandas>=0.23->pandas-datareader) (2018.9)\n",
            "Requirement already satisfied: python-dateutil>=2.7.3 in /usr/local/lib/python3.7/dist-packages (from pandas>=0.23->pandas-datareader) (2.8.1)\n",
            "Requirement already satisfied: numpy>=1.17.3 in /usr/local/lib/python3.7/dist-packages (from pandas>=0.23->pandas-datareader) (1.19.5)\n",
            "Requirement already satisfied: six>=1.5 in /usr/local/lib/python3.7/dist-packages (from python-dateutil>=2.7.3->pandas>=0.23->pandas-datareader) (1.15.0)\n",
            "Requirement already satisfied: idna<3,>=2.5 in /usr/local/lib/python3.7/dist-packages (from requests>=2.19.0->pandas-datareader) (2.10)\n",
            "Requirement already satisfied: urllib3!=1.25.0,!=1.25.1,<1.26,>=1.21.1 in /usr/local/lib/python3.7/dist-packages (from requests>=2.19.0->pandas-datareader) (1.24.3)\n",
            "Requirement already satisfied: certifi>=2017.4.17 in /usr/local/lib/python3.7/dist-packages (from requests>=2.19.0->pandas-datareader) (2021.5.30)\n",
            "Requirement already satisfied: chardet<4,>=3.0.2 in /usr/local/lib/python3.7/dist-packages (from requests>=2.19.0->pandas-datareader) (3.0.4)\n"
          ],
          "name": "stdout"
        }
      ]
    },
    {
      "cell_type": "code",
      "metadata": {
        "id": "Lgb1tbHALtzk"
      },
      "source": [
        "end=dt.datetime.now()\n",
        "start=\"07-01-2003\"\n",
        "df= reader.get_data_yahoo('TSLA',start,end)\n",
        "df=df.reset_index()"
      ],
      "execution_count": null,
      "outputs": []
    },
    {
      "cell_type": "code",
      "metadata": {
        "colab": {
          "base_uri": "https://localhost:8080/",
          "height": 436
        },
        "id": "szHw_WBs8UDu",
        "outputId": "1e71aaf2-c2aa-42ad-f469-f871d9cea540"
      },
      "source": [
        "model=Prophet()\n",
        "df[['ds','y']]=df[['Date','Adj Close']]\n",
        "model.fit(df)\n",
        "df"
      ],
      "execution_count": null,
      "outputs": [
        {
          "output_type": "stream",
          "text": [
            "INFO:fbprophet:Disabling daily seasonality. Run prophet with daily_seasonality=True to override this.\n"
          ],
          "name": "stderr"
        },
        {
          "output_type": "execute_result",
          "data": {
            "text/html": [
              "<div>\n",
              "<style scoped>\n",
              "    .dataframe tbody tr th:only-of-type {\n",
              "        vertical-align: middle;\n",
              "    }\n",
              "\n",
              "    .dataframe tbody tr th {\n",
              "        vertical-align: top;\n",
              "    }\n",
              "\n",
              "    .dataframe thead th {\n",
              "        text-align: right;\n",
              "    }\n",
              "</style>\n",
              "<table border=\"1\" class=\"dataframe\">\n",
              "  <thead>\n",
              "    <tr style=\"text-align: right;\">\n",
              "      <th></th>\n",
              "      <th>Date</th>\n",
              "      <th>High</th>\n",
              "      <th>Low</th>\n",
              "      <th>Open</th>\n",
              "      <th>Close</th>\n",
              "      <th>Volume</th>\n",
              "      <th>Adj Close</th>\n",
              "      <th>ds</th>\n",
              "      <th>y</th>\n",
              "    </tr>\n",
              "  </thead>\n",
              "  <tbody>\n",
              "    <tr>\n",
              "      <th>0</th>\n",
              "      <td>2010-06-29</td>\n",
              "      <td>5.000000</td>\n",
              "      <td>3.508000</td>\n",
              "      <td>3.800000</td>\n",
              "      <td>4.778000</td>\n",
              "      <td>93831500.0</td>\n",
              "      <td>4.778000</td>\n",
              "      <td>2010-06-29</td>\n",
              "      <td>4.778000</td>\n",
              "    </tr>\n",
              "    <tr>\n",
              "      <th>1</th>\n",
              "      <td>2010-06-30</td>\n",
              "      <td>6.084000</td>\n",
              "      <td>4.660000</td>\n",
              "      <td>5.158000</td>\n",
              "      <td>4.766000</td>\n",
              "      <td>85935500.0</td>\n",
              "      <td>4.766000</td>\n",
              "      <td>2010-06-30</td>\n",
              "      <td>4.766000</td>\n",
              "    </tr>\n",
              "    <tr>\n",
              "      <th>2</th>\n",
              "      <td>2010-07-01</td>\n",
              "      <td>5.184000</td>\n",
              "      <td>4.054000</td>\n",
              "      <td>5.000000</td>\n",
              "      <td>4.392000</td>\n",
              "      <td>41094000.0</td>\n",
              "      <td>4.392000</td>\n",
              "      <td>2010-07-01</td>\n",
              "      <td>4.392000</td>\n",
              "    </tr>\n",
              "    <tr>\n",
              "      <th>3</th>\n",
              "      <td>2010-07-02</td>\n",
              "      <td>4.620000</td>\n",
              "      <td>3.742000</td>\n",
              "      <td>4.600000</td>\n",
              "      <td>3.840000</td>\n",
              "      <td>25699000.0</td>\n",
              "      <td>3.840000</td>\n",
              "      <td>2010-07-02</td>\n",
              "      <td>3.840000</td>\n",
              "    </tr>\n",
              "    <tr>\n",
              "      <th>4</th>\n",
              "      <td>2010-07-06</td>\n",
              "      <td>4.000000</td>\n",
              "      <td>3.166000</td>\n",
              "      <td>4.000000</td>\n",
              "      <td>3.222000</td>\n",
              "      <td>34334500.0</td>\n",
              "      <td>3.222000</td>\n",
              "      <td>2010-07-06</td>\n",
              "      <td>3.222000</td>\n",
              "    </tr>\n",
              "    <tr>\n",
              "      <th>...</th>\n",
              "      <td>...</td>\n",
              "      <td>...</td>\n",
              "      <td>...</td>\n",
              "      <td>...</td>\n",
              "      <td>...</td>\n",
              "      <td>...</td>\n",
              "      <td>...</td>\n",
              "      <td>...</td>\n",
              "      <td>...</td>\n",
              "    </tr>\n",
              "    <tr>\n",
              "      <th>2792</th>\n",
              "      <td>2021-08-02</td>\n",
              "      <td>726.940002</td>\n",
              "      <td>698.400024</td>\n",
              "      <td>700.000000</td>\n",
              "      <td>709.669983</td>\n",
              "      <td>33615800.0</td>\n",
              "      <td>709.669983</td>\n",
              "      <td>2021-08-02</td>\n",
              "      <td>709.669983</td>\n",
              "    </tr>\n",
              "    <tr>\n",
              "      <th>2793</th>\n",
              "      <td>2021-08-03</td>\n",
              "      <td>722.650024</td>\n",
              "      <td>701.010010</td>\n",
              "      <td>719.000000</td>\n",
              "      <td>709.739990</td>\n",
              "      <td>21620300.0</td>\n",
              "      <td>709.739990</td>\n",
              "      <td>2021-08-03</td>\n",
              "      <td>709.739990</td>\n",
              "    </tr>\n",
              "    <tr>\n",
              "      <th>2794</th>\n",
              "      <td>2021-08-04</td>\n",
              "      <td>724.900024</td>\n",
              "      <td>708.929993</td>\n",
              "      <td>711.000000</td>\n",
              "      <td>710.919983</td>\n",
              "      <td>17002600.0</td>\n",
              "      <td>710.919983</td>\n",
              "      <td>2021-08-04</td>\n",
              "      <td>710.919983</td>\n",
              "    </tr>\n",
              "    <tr>\n",
              "      <th>2795</th>\n",
              "      <td>2021-08-05</td>\n",
              "      <td>720.950012</td>\n",
              "      <td>711.409973</td>\n",
              "      <td>716.000000</td>\n",
              "      <td>714.630005</td>\n",
              "      <td>12919600.0</td>\n",
              "      <td>714.630005</td>\n",
              "      <td>2021-08-05</td>\n",
              "      <td>714.630005</td>\n",
              "    </tr>\n",
              "    <tr>\n",
              "      <th>2796</th>\n",
              "      <td>2021-08-06</td>\n",
              "      <td>716.330017</td>\n",
              "      <td>697.630005</td>\n",
              "      <td>711.900024</td>\n",
              "      <td>699.099976</td>\n",
              "      <td>15576200.0</td>\n",
              "      <td>699.099976</td>\n",
              "      <td>2021-08-06</td>\n",
              "      <td>699.099976</td>\n",
              "    </tr>\n",
              "  </tbody>\n",
              "</table>\n",
              "<p>2797 rows × 9 columns</p>\n",
              "</div>"
            ],
            "text/plain": [
              "           Date        High         Low  ...   Adj Close         ds           y\n",
              "0    2010-06-29    5.000000    3.508000  ...    4.778000 2010-06-29    4.778000\n",
              "1    2010-06-30    6.084000    4.660000  ...    4.766000 2010-06-30    4.766000\n",
              "2    2010-07-01    5.184000    4.054000  ...    4.392000 2010-07-01    4.392000\n",
              "3    2010-07-02    4.620000    3.742000  ...    3.840000 2010-07-02    3.840000\n",
              "4    2010-07-06    4.000000    3.166000  ...    3.222000 2010-07-06    3.222000\n",
              "...         ...         ...         ...  ...         ...        ...         ...\n",
              "2792 2021-08-02  726.940002  698.400024  ...  709.669983 2021-08-02  709.669983\n",
              "2793 2021-08-03  722.650024  701.010010  ...  709.739990 2021-08-03  709.739990\n",
              "2794 2021-08-04  724.900024  708.929993  ...  710.919983 2021-08-04  710.919983\n",
              "2795 2021-08-05  720.950012  711.409973  ...  714.630005 2021-08-05  714.630005\n",
              "2796 2021-08-06  716.330017  697.630005  ...  699.099976 2021-08-06  699.099976\n",
              "\n",
              "[2797 rows x 9 columns]"
            ]
          },
          "metadata": {
            "tags": []
          },
          "execution_count": 4
        }
      ]
    },
    {
      "cell_type": "code",
      "metadata": {
        "colab": {
          "base_uri": "https://localhost:8080/",
          "height": 441
        },
        "id": "jSg52iVj9abr",
        "outputId": "522d1226-3a81-4853-9cbf-c36a26c71ee1"
      },
      "source": [
        "future=model.make_future_dataframe(periods=365)\n",
        "forecast=model.predict(future)\n",
        "model.plot(forecast)\n",
        "plt.show()"
      ],
      "execution_count": null,
      "outputs": [
        {
          "output_type": "display_data",
          "data": {
            "image/png": "[encoded data removed]",
            "text/plain": [
              "<Figure size 720x432 with 1 Axes>"
            ]
          },
          "metadata": {
            "tags": []
          }
        }
      ]
    },
    {
      "cell_type": "code",
      "metadata": {
        "colab": {
          "base_uri": "https://localhost:8080/",
          "height": 394
        },
        "id": "IF8sP_oCjJbp",
        "outputId": "f70859d4-698a-4aaa-97b5-aea34a6710b0"
      },
      "source": [
        "!pip install --upgrade pandas"
      ],
      "execution_count": null,
      "outputs": [
        {
          "output_type": "stream",
          "text": [
            "Requirement already satisfied: pandas in /usr/local/lib/python3.7/dist-packages (1.1.5)\n",
            "Collecting pandas\n",
            "  Downloading pandas-1.3.1-cp37-cp37m-manylinux_2_17_x86_64.manylinux2014_x86_64.whl (11.5 MB)\n",
            "\u001b[K     |████████████████████████████████| 11.5 MB 7.0 MB/s \n",
            "\u001b[?25hRequirement already satisfied: numpy>=1.17.3 in /usr/local/lib/python3.7/dist-packages (from pandas) (1.19.5)\n",
            "Requirement already satisfied: pytz>=2017.3 in /usr/local/lib/python3.7/dist-packages (from pandas) (2018.9)\n",
            "Requirement already satisfied: python-dateutil>=2.7.3 in /usr/local/lib/python3.7/dist-packages (from pandas) (2.8.1)\n",
            "Requirement already satisfied: six>=1.5 in /usr/local/lib/python3.7/dist-packages (from python-dateutil>=2.7.3->pandas) (1.15.0)\n",
            "Installing collected packages: pandas\n",
            "  Attempting uninstall: pandas\n",
            "    Found existing installation: pandas 1.1.5\n",
            "    Uninstalling pandas-1.1.5:\n",
            "      Successfully uninstalled pandas-1.1.5\n",
            "\u001b[31mERROR: pip's dependency resolver does not currently take into account all the packages that are installed. This behaviour is the source of the following dependency conflicts.\n",
            "google-colab 1.0.0 requires pandas~=1.1.0; python_version >= \"3.0\", but you have pandas 1.3.1 which is incompatible.\u001b[0m\n",
            "Successfully installed pandas-1.3.1\n"
          ],
          "name": "stdout"
        },
        {
          "output_type": "display_data",
          "data": {
            "application/vnd.colab-display-data+json": {
              "pip_warning": {
                "packages": [
                  "pandas"
                ]
              }
            }
          },
          "metadata": {
            "tags": []
          }
        }
      ]
    },
    {
      "cell_type": "code",
      "metadata": {
        "colab": {
          "base_uri": "https://localhost:8080/",
          "height": 609
        },
        "id": "CJ82tvdZLQdE",
        "outputId": "332db3a0-3e58-4741-da02-61d30a738861"
      },
      "source": [
        "forecast.tail(365)"
      ],
      "execution_count": null,
      "outputs": [
        {
          "output_type": "execute_result",
          "data": {
            "text/html": [
              "<div>\n",
              "<style scoped>\n",
              "    .dataframe tbody tr th:only-of-type {\n",
              "        vertical-align: middle;\n",
              "    }\n",
              "\n",
              "    .dataframe tbody tr th {\n",
              "        vertical-align: top;\n",
              "    }\n",
              "\n",
              "    .dataframe thead th {\n",
              "        text-align: right;\n",
              "    }\n",
              "</style>\n",
              "<table border=\"1\" class=\"dataframe\">\n",
              "  <thead>\n",
              "    <tr style=\"text-align: right;\">\n",
              "      <th></th>\n",
              "      <th>ds</th>\n",
              "      <th>trend</th>\n",
              "      <th>yhat_lower</th>\n",
              "      <th>yhat_upper</th>\n",
              "      <th>trend_lower</th>\n",
              "      <th>trend_upper</th>\n",
              "      <th>additive_terms</th>\n",
              "      <th>additive_terms_lower</th>\n",
              "      <th>additive_terms_upper</th>\n",
              "      <th>weekly</th>\n",
              "      <th>weekly_lower</th>\n",
              "      <th>weekly_upper</th>\n",
              "      <th>yearly</th>\n",
              "      <th>yearly_lower</th>\n",
              "      <th>yearly_upper</th>\n",
              "      <th>multiplicative_terms</th>\n",
              "      <th>multiplicative_terms_lower</th>\n",
              "      <th>multiplicative_terms_upper</th>\n",
              "      <th>yhat</th>\n",
              "    </tr>\n",
              "  </thead>\n",
              "  <tbody>\n",
              "    <tr>\n",
              "      <th>2797</th>\n",
              "      <td>2021-08-07</td>\n",
              "      <td>734.378879</td>\n",
              "      <td>663.026557</td>\n",
              "      <td>793.314607</td>\n",
              "      <td>734.378879</td>\n",
              "      <td>734.378879</td>\n",
              "      <td>-5.120496</td>\n",
              "      <td>-5.120496</td>\n",
              "      <td>-5.120496</td>\n",
              "      <td>1.086223</td>\n",
              "      <td>1.086223</td>\n",
              "      <td>1.086223</td>\n",
              "      <td>-6.206719</td>\n",
              "      <td>-6.206719</td>\n",
              "      <td>-6.206719</td>\n",
              "      <td>0.0</td>\n",
              "      <td>0.0</td>\n",
              "      <td>0.0</td>\n",
              "      <td>729.258384</td>\n",
              "    </tr>\n",
              "    <tr>\n",
              "      <th>2798</th>\n",
              "      <td>2021-08-08</td>\n",
              "      <td>735.333070</td>\n",
              "      <td>662.228275</td>\n",
              "      <td>795.260134</td>\n",
              "      <td>735.333070</td>\n",
              "      <td>735.333070</td>\n",
              "      <td>-4.560323</td>\n",
              "      <td>-4.560323</td>\n",
              "      <td>-4.560323</td>\n",
              "      <td>1.086223</td>\n",
              "      <td>1.086223</td>\n",
              "      <td>1.086223</td>\n",
              "      <td>-5.646546</td>\n",
              "      <td>-5.646546</td>\n",
              "      <td>-5.646546</td>\n",
              "      <td>0.0</td>\n",
              "      <td>0.0</td>\n",
              "      <td>0.0</td>\n",
              "      <td>730.772747</td>\n",
              "    </tr>\n",
              "    <tr>\n",
              "      <th>2799</th>\n",
              "      <td>2021-08-09</td>\n",
              "      <td>736.287260</td>\n",
              "      <td>667.747910</td>\n",
              "      <td>796.264319</td>\n",
              "      <td>736.287260</td>\n",
              "      <td>736.287260</td>\n",
              "      <td>-5.189495</td>\n",
              "      <td>-5.189495</td>\n",
              "      <td>-5.189495</td>\n",
              "      <td>-0.130699</td>\n",
              "      <td>-0.130699</td>\n",
              "      <td>-0.130699</td>\n",
              "      <td>-5.058796</td>\n",
              "      <td>-5.058796</td>\n",
              "      <td>-5.058796</td>\n",
              "      <td>0.0</td>\n",
              "      <td>0.0</td>\n",
              "      <td>0.0</td>\n",
              "      <td>731.097765</td>\n",
              "    </tr>\n",
              "    <tr>\n",
              "      <th>2800</th>\n",
              "      <td>2021-08-10</td>\n",
              "      <td>737.241451</td>\n",
              "      <td>667.828408</td>\n",
              "      <td>795.553782</td>\n",
              "      <td>737.241451</td>\n",
              "      <td>737.241451</td>\n",
              "      <td>-4.768718</td>\n",
              "      <td>-4.768718</td>\n",
              "      <td>-4.768718</td>\n",
              "      <td>-0.316824</td>\n",
              "      <td>-0.316824</td>\n",
              "      <td>-0.316824</td>\n",
              "      <td>-4.451894</td>\n",
              "      <td>-4.451894</td>\n",
              "      <td>-4.451894</td>\n",
              "      <td>0.0</td>\n",
              "      <td>0.0</td>\n",
              "      <td>0.0</td>\n",
              "      <td>732.472732</td>\n",
              "    </tr>\n",
              "    <tr>\n",
              "      <th>2801</th>\n",
              "      <td>2021-08-11</td>\n",
              "      <td>738.195641</td>\n",
              "      <td>674.112098</td>\n",
              "      <td>799.464819</td>\n",
              "      <td>738.195641</td>\n",
              "      <td>738.195641</td>\n",
              "      <td>-3.954142</td>\n",
              "      <td>-3.954142</td>\n",
              "      <td>-3.954142</td>\n",
              "      <td>-0.119659</td>\n",
              "      <td>-0.119659</td>\n",
              "      <td>-0.119659</td>\n",
              "      <td>-3.834484</td>\n",
              "      <td>-3.834484</td>\n",
              "      <td>-3.834484</td>\n",
              "      <td>0.0</td>\n",
              "      <td>0.0</td>\n",
              "      <td>0.0</td>\n",
              "      <td>734.241499</td>\n",
              "    </tr>\n",
              "    <tr>\n",
              "      <th>...</th>\n",
              "      <td>...</td>\n",
              "      <td>...</td>\n",
              "      <td>...</td>\n",
              "      <td>...</td>\n",
              "      <td>...</td>\n",
              "      <td>...</td>\n",
              "      <td>...</td>\n",
              "      <td>...</td>\n",
              "      <td>...</td>\n",
              "      <td>...</td>\n",
              "      <td>...</td>\n",
              "      <td>...</td>\n",
              "      <td>...</td>\n",
              "      <td>...</td>\n",
              "      <td>...</td>\n",
              "      <td>...</td>\n",
              "      <td>...</td>\n",
              "      <td>...</td>\n",
              "      <td>...</td>\n",
              "    </tr>\n",
              "    <tr>\n",
              "      <th>3157</th>\n",
              "      <td>2022-08-02</td>\n",
              "      <td>1077.887426</td>\n",
              "      <td>991.485640</td>\n",
              "      <td>1142.662156</td>\n",
              "      <td>1044.383884</td>\n",
              "      <td>1114.629514</td>\n",
              "      <td>-8.723326</td>\n",
              "      <td>-8.723326</td>\n",
              "      <td>-8.723326</td>\n",
              "      <td>-0.316824</td>\n",
              "      <td>-0.316824</td>\n",
              "      <td>-0.316824</td>\n",
              "      <td>-8.406502</td>\n",
              "      <td>-8.406502</td>\n",
              "      <td>-8.406502</td>\n",
              "      <td>0.0</td>\n",
              "      <td>0.0</td>\n",
              "      <td>0.0</td>\n",
              "      <td>1069.164100</td>\n",
              "    </tr>\n",
              "    <tr>\n",
              "      <th>3158</th>\n",
              "      <td>2022-08-03</td>\n",
              "      <td>1078.841617</td>\n",
              "      <td>996.391919</td>\n",
              "      <td>1142.409940</td>\n",
              "      <td>1045.230496</td>\n",
              "      <td>1115.846225</td>\n",
              "      <td>-8.225570</td>\n",
              "      <td>-8.225570</td>\n",
              "      <td>-8.225570</td>\n",
              "      <td>-0.119659</td>\n",
              "      <td>-0.119659</td>\n",
              "      <td>-0.119659</td>\n",
              "      <td>-8.105912</td>\n",
              "      <td>-8.105912</td>\n",
              "      <td>-8.105912</td>\n",
              "      <td>0.0</td>\n",
              "      <td>0.0</td>\n",
              "      <td>0.0</td>\n",
              "      <td>1070.616046</td>\n",
              "    </tr>\n",
              "    <tr>\n",
              "      <th>3159</th>\n",
              "      <td>2022-08-04</td>\n",
              "      <td>1079.795807</td>\n",
              "      <td>1001.650458</td>\n",
              "      <td>1144.946725</td>\n",
              "      <td>1046.035744</td>\n",
              "      <td>1117.062936</td>\n",
              "      <td>-8.348237</td>\n",
              "      <td>-8.348237</td>\n",
              "      <td>-8.348237</td>\n",
              "      <td>-0.604064</td>\n",
              "      <td>-0.604064</td>\n",
              "      <td>-0.604064</td>\n",
              "      <td>-7.744173</td>\n",
              "      <td>-7.744173</td>\n",
              "      <td>-7.744173</td>\n",
              "      <td>0.0</td>\n",
              "      <td>0.0</td>\n",
              "      <td>0.0</td>\n",
              "      <td>1071.447571</td>\n",
              "    </tr>\n",
              "    <tr>\n",
              "      <th>3160</th>\n",
              "      <td>2022-08-05</td>\n",
              "      <td>1080.749998</td>\n",
              "      <td>1000.991071</td>\n",
              "      <td>1147.832174</td>\n",
              "      <td>1046.838490</td>\n",
              "      <td>1118.190892</td>\n",
              "      <td>-8.326899</td>\n",
              "      <td>-8.326899</td>\n",
              "      <td>-8.326899</td>\n",
              "      <td>-1.001201</td>\n",
              "      <td>-1.001201</td>\n",
              "      <td>-1.001201</td>\n",
              "      <td>-7.325698</td>\n",
              "      <td>-7.325698</td>\n",
              "      <td>-7.325698</td>\n",
              "      <td>0.0</td>\n",
              "      <td>0.0</td>\n",
              "      <td>0.0</td>\n",
              "      <td>1072.423099</td>\n",
              "    </tr>\n",
              "    <tr>\n",
              "      <th>3161</th>\n",
              "      <td>2022-08-06</td>\n",
              "      <td>1081.704188</td>\n",
              "      <td>1005.625208</td>\n",
              "      <td>1151.729653</td>\n",
              "      <td>1047.647938</td>\n",
              "      <td>1119.291748</td>\n",
              "      <td>-5.769765</td>\n",
              "      <td>-5.769765</td>\n",
              "      <td>-5.769765</td>\n",
              "      <td>1.086223</td>\n",
              "      <td>1.086223</td>\n",
              "      <td>1.086223</td>\n",
              "      <td>-6.855988</td>\n",
              "      <td>-6.855988</td>\n",
              "      <td>-6.855988</td>\n",
              "      <td>0.0</td>\n",
              "      <td>0.0</td>\n",
              "      <td>0.0</td>\n",
              "      <td>1075.934423</td>\n",
              "    </tr>\n",
              "  </tbody>\n",
              "</table>\n",
              "<p>365 rows × 19 columns</p>\n",
              "</div>"
            ],
            "text/plain": [
              "             ds        trend  ...  multiplicative_terms_upper         yhat\n",
              "2797 2021-08-07   734.378879  ...                         0.0   729.258384\n",
              "2798 2021-08-08   735.333070  ...                         0.0   730.772747\n",
              "2799 2021-08-09   736.287260  ...                         0.0   731.097765\n",
              "2800 2021-08-10   737.241451  ...                         0.0   732.472732\n",
              "2801 2021-08-11   738.195641  ...                         0.0   734.241499\n",
              "...         ...          ...  ...                         ...          ...\n",
              "3157 2022-08-02  1077.887426  ...                         0.0  1069.164100\n",
              "3158 2022-08-03  1078.841617  ...                         0.0  1070.616046\n",
              "3159 2022-08-04  1079.795807  ...                         0.0  1071.447571\n",
              "3160 2022-08-05  1080.749998  ...                         0.0  1072.423099\n",
              "3161 2022-08-06  1081.704188  ...                         0.0  1075.934423\n",
              "\n",
              "[365 rows x 19 columns]"
            ]
          },
          "metadata": {
            "tags": []
          },
          "execution_count": 6
        }
      ]
    },
    {
      "cell_type": "code",
      "metadata": {
        "colab": {
          "base_uri": "https://localhost:8080/"
        },
        "id": "JanCzn4BEg7e",
        "outputId": "1794b85d-7bd1-4a29-fb1c-3a944ace02f5"
      },
      "source": [
        "import statsmodels.api  as sm"
      ],
      "execution_count": null,
      "outputs": [
        {
          "output_type": "stream",
          "text": [
            "/usr/local/lib/python3.7/dist-packages/statsmodels/tools/_testing.py:19: FutureWarning:\n",
            "\n",
            "pandas.util.testing is deprecated. Use the functions in the public API at pandas.testing instead.\n",
            "\n"
          ],
          "name": "stderr"
        }
      ]
    },
    {
      "cell_type": "code",
      "metadata": {
        "colab": {
          "base_uri": "https://localhost:8080/",
          "height": 450
        },
        "id": "q_Wcuw1IEsMJ",
        "outputId": "c6612571-19a4-442f-eca9-2fd6a7de569e"
      },
      "source": [
        "start1='08-19-2004'\n",
        "Input=['GOOGL','^GSPC']\n",
        "df1=reader.get_data_yahoo(Input,start1,end)['Adj Close']\n",
        "\n",
        "df1"
      ],
      "execution_count": null,
      "outputs": [
        {
          "output_type": "execute_result",
          "data": {
            "text/html": [
              "<div>\n",
              "<style scoped>\n",
              "    .dataframe tbody tr th:only-of-type {\n",
              "        vertical-align: middle;\n",
              "    }\n",
              "\n",
              "    .dataframe tbody tr th {\n",
              "        vertical-align: top;\n",
              "    }\n",
              "\n",
              "    .dataframe thead th {\n",
              "        text-align: right;\n",
              "    }\n",
              "</style>\n",
              "<table border=\"1\" class=\"dataframe\">\n",
              "  <thead>\n",
              "    <tr style=\"text-align: right;\">\n",
              "      <th>Symbols</th>\n",
              "      <th>GOOGL</th>\n",
              "      <th>^GSPC</th>\n",
              "    </tr>\n",
              "    <tr>\n",
              "      <th>Date</th>\n",
              "      <th></th>\n",
              "      <th></th>\n",
              "    </tr>\n",
              "  </thead>\n",
              "  <tbody>\n",
              "    <tr>\n",
              "      <th>2004-08-19</th>\n",
              "      <td>50.220219</td>\n",
              "      <td>1091.229980</td>\n",
              "    </tr>\n",
              "    <tr>\n",
              "      <th>2004-08-20</th>\n",
              "      <td>54.209209</td>\n",
              "      <td>1098.349976</td>\n",
              "    </tr>\n",
              "    <tr>\n",
              "      <th>2004-08-23</th>\n",
              "      <td>54.754753</td>\n",
              "      <td>1095.680054</td>\n",
              "    </tr>\n",
              "    <tr>\n",
              "      <th>2004-08-24</th>\n",
              "      <td>52.487488</td>\n",
              "      <td>1096.189941</td>\n",
              "    </tr>\n",
              "    <tr>\n",
              "      <th>2004-08-25</th>\n",
              "      <td>53.053055</td>\n",
              "      <td>1104.959961</td>\n",
              "    </tr>\n",
              "    <tr>\n",
              "      <th>...</th>\n",
              "      <td>...</td>\n",
              "      <td>...</td>\n",
              "    </tr>\n",
              "    <tr>\n",
              "      <th>2021-08-02</th>\n",
              "      <td>2697.090088</td>\n",
              "      <td>4387.160156</td>\n",
              "    </tr>\n",
              "    <tr>\n",
              "      <th>2021-08-03</th>\n",
              "      <td>2712.600098</td>\n",
              "      <td>4423.149902</td>\n",
              "    </tr>\n",
              "    <tr>\n",
              "      <th>2021-08-04</th>\n",
              "      <td>2702.510010</td>\n",
              "      <td>4402.660156</td>\n",
              "    </tr>\n",
              "    <tr>\n",
              "      <th>2021-08-05</th>\n",
              "      <td>2725.030029</td>\n",
              "      <td>4429.100098</td>\n",
              "    </tr>\n",
              "    <tr>\n",
              "      <th>2021-08-06</th>\n",
              "      <td>2714.770020</td>\n",
              "      <td>4436.520020</td>\n",
              "    </tr>\n",
              "  </tbody>\n",
              "</table>\n",
              "<p>4272 rows × 2 columns</p>\n",
              "</div>"
            ],
            "text/plain": [
              "Symbols           GOOGL        ^GSPC\n",
              "Date                                \n",
              "2004-08-19    50.220219  1091.229980\n",
              "2004-08-20    54.209209  1098.349976\n",
              "2004-08-23    54.754753  1095.680054\n",
              "2004-08-24    52.487488  1096.189941\n",
              "2004-08-25    53.053055  1104.959961\n",
              "...                 ...          ...\n",
              "2021-08-02  2697.090088  4387.160156\n",
              "2021-08-03  2712.600098  4423.149902\n",
              "2021-08-04  2702.510010  4402.660156\n",
              "2021-08-05  2725.030029  4429.100098\n",
              "2021-08-06  2714.770020  4436.520020\n",
              "\n",
              "[4272 rows x 2 columns]"
            ]
          },
          "metadata": {
            "tags": []
          },
          "execution_count": 8
        }
      ]
    },
    {
      "cell_type": "code",
      "metadata": {
        "colab": {
          "base_uri": "https://localhost:8080/",
          "height": 450
        },
        "id": "SP3rsfSEFjp7",
        "outputId": "76d4b0e9-d6b8-47db-b2aa-f1dbb696bc2a"
      },
      "source": [
        "met_ret = df1.resample('M').ffill().pct_change()\n",
        "met_ret=met_ret.dropna(axis=0)\n",
        "met_ret"
      ],
      "execution_count": null,
      "outputs": [
        {
          "output_type": "execute_result",
          "data": {
            "text/html": [
              "<div>\n",
              "<style scoped>\n",
              "    .dataframe tbody tr th:only-of-type {\n",
              "        vertical-align: middle;\n",
              "    }\n",
              "\n",
              "    .dataframe tbody tr th {\n",
              "        vertical-align: top;\n",
              "    }\n",
              "\n",
              "    .dataframe thead th {\n",
              "        text-align: right;\n",
              "    }\n",
              "</style>\n",
              "<table border=\"1\" class=\"dataframe\">\n",
              "  <thead>\n",
              "    <tr style=\"text-align: right;\">\n",
              "      <th>Symbols</th>\n",
              "      <th>GOOGL</th>\n",
              "      <th>^GSPC</th>\n",
              "    </tr>\n",
              "    <tr>\n",
              "      <th>Date</th>\n",
              "      <th></th>\n",
              "      <th></th>\n",
              "    </tr>\n",
              "  </thead>\n",
              "  <tbody>\n",
              "    <tr>\n",
              "      <th>2004-09-30</th>\n",
              "      <td>0.265996</td>\n",
              "      <td>0.009364</td>\n",
              "    </tr>\n",
              "    <tr>\n",
              "      <th>2004-10-31</th>\n",
              "      <td>0.470988</td>\n",
              "      <td>0.014014</td>\n",
              "    </tr>\n",
              "    <tr>\n",
              "      <th>2004-11-30</th>\n",
              "      <td>-0.045426</td>\n",
              "      <td>0.038595</td>\n",
              "    </tr>\n",
              "    <tr>\n",
              "      <th>2004-12-31</th>\n",
              "      <td>0.059402</td>\n",
              "      <td>0.032458</td>\n",
              "    </tr>\n",
              "    <tr>\n",
              "      <th>2005-01-31</th>\n",
              "      <td>0.014679</td>\n",
              "      <td>-0.025290</td>\n",
              "    </tr>\n",
              "    <tr>\n",
              "      <th>...</th>\n",
              "      <td>...</td>\n",
              "      <td>...</td>\n",
              "    </tr>\n",
              "    <tr>\n",
              "      <th>2021-04-30</th>\n",
              "      <td>0.141080</td>\n",
              "      <td>0.052425</td>\n",
              "    </tr>\n",
              "    <tr>\n",
              "      <th>2021-05-31</th>\n",
              "      <td>0.001423</td>\n",
              "      <td>0.005486</td>\n",
              "    </tr>\n",
              "    <tr>\n",
              "      <th>2021-06-30</th>\n",
              "      <td>0.036040</td>\n",
              "      <td>0.022214</td>\n",
              "    </tr>\n",
              "    <tr>\n",
              "      <th>2021-07-31</th>\n",
              "      <td>0.103506</td>\n",
              "      <td>0.022748</td>\n",
              "    </tr>\n",
              "    <tr>\n",
              "      <th>2021-08-31</th>\n",
              "      <td>0.007512</td>\n",
              "      <td>0.009387</td>\n",
              "    </tr>\n",
              "  </tbody>\n",
              "</table>\n",
              "<p>204 rows × 2 columns</p>\n",
              "</div>"
            ],
            "text/plain": [
              "Symbols        GOOGL     ^GSPC\n",
              "Date                          \n",
              "2004-09-30  0.265996  0.009364\n",
              "2004-10-31  0.470988  0.014014\n",
              "2004-11-30 -0.045426  0.038595\n",
              "2004-12-31  0.059402  0.032458\n",
              "2005-01-31  0.014679 -0.025290\n",
              "...              ...       ...\n",
              "2021-04-30  0.141080  0.052425\n",
              "2021-05-31  0.001423  0.005486\n",
              "2021-06-30  0.036040  0.022214\n",
              "2021-07-31  0.103506  0.022748\n",
              "2021-08-31  0.007512  0.009387\n",
              "\n",
              "[204 rows x 2 columns]"
            ]
          },
          "metadata": {
            "tags": []
          },
          "execution_count": 9
        }
      ]
    },
    {
      "cell_type": "code",
      "metadata": {
        "colab": {
          "base_uri": "https://localhost:8080/",
          "height": 512
        },
        "id": "loCbzSNUJgVS",
        "outputId": "9b5605a5-c0e5-4bfb-9d6a-b7ef8d75098f"
      },
      "source": [
        "x=met_ret['^GSPC']\n",
        "y=met_ret['GOOGL']\n",
        "x_sm=sm.add_constant(x)\n",
        "model1=sm.OLS(y,x_sm)\n",
        "result=model1.fit()\n",
        "result.summary()"
      ],
      "execution_count": null,
      "outputs": [
        {
          "output_type": "stream",
          "text": [
            "/usr/local/lib/python3.7/dist-packages/statsmodels/tsa/tsatools.py:117: FutureWarning:\n",
            "\n",
            "In a future version of pandas all arguments of concat except for the argument 'objs' will be keyword-only\n",
            "\n"
          ],
          "name": "stderr"
        },
        {
          "output_type": "execute_result",
          "data": {
            "text/html": [
              "<table class=\"simpletable\">\n",
              "<caption>OLS Regression Results</caption>\n",
              "<tr>\n",
              "  <th>Dep. Variable:</th>          <td>GOOGL</td>      <th>  R-squared:         </th> <td>   0.247</td>\n",
              "</tr>\n",
              "<tr>\n",
              "  <th>Model:</th>                   <td>OLS</td>       <th>  Adj. R-squared:    </th> <td>   0.244</td>\n",
              "</tr>\n",
              "<tr>\n",
              "  <th>Method:</th>             <td>Least Squares</td>  <th>  F-statistic:       </th> <td>   66.36</td>\n",
              "</tr>\n",
              "<tr>\n",
              "  <th>Date:</th>             <td>Sat, 07 Aug 2021</td> <th>  Prob (F-statistic):</th> <td>3.85e-14</td>\n",
              "</tr>\n",
              "<tr>\n",
              "  <th>Time:</th>                 <td>07:44:08</td>     <th>  Log-Likelihood:    </th> <td>  234.61</td>\n",
              "</tr>\n",
              "<tr>\n",
              "  <th>No. Observations:</th>      <td>   204</td>      <th>  AIC:               </th> <td>  -465.2</td>\n",
              "</tr>\n",
              "<tr>\n",
              "  <th>Df Residuals:</th>          <td>   202</td>      <th>  BIC:               </th> <td>  -458.6</td>\n",
              "</tr>\n",
              "<tr>\n",
              "  <th>Df Model:</th>              <td>     1</td>      <th>                     </th>     <td> </td>   \n",
              "</tr>\n",
              "<tr>\n",
              "  <th>Covariance Type:</th>      <td>nonrobust</td>    <th>                     </th>     <td> </td>   \n",
              "</tr>\n",
              "</table>\n",
              "<table class=\"simpletable\">\n",
              "<tr>\n",
              "    <td></td>       <th>coef</th>     <th>std err</th>      <th>t</th>      <th>P>|t|</th>  <th>[0.025</th>    <th>0.975]</th>  \n",
              "</tr>\n",
              "<tr>\n",
              "  <th>const</th> <td>    0.0152</td> <td>    0.005</td> <td>    2.770</td> <td> 0.006</td> <td>    0.004</td> <td>    0.026</td>\n",
              "</tr>\n",
              "<tr>\n",
              "  <th>^GSPC</th> <td>    1.0555</td> <td>    0.130</td> <td>    8.146</td> <td> 0.000</td> <td>    0.800</td> <td>    1.311</td>\n",
              "</tr>\n",
              "</table>\n",
              "<table class=\"simpletable\">\n",
              "<tr>\n",
              "  <th>Omnibus:</th>       <td>84.415</td> <th>  Durbin-Watson:     </th> <td>   1.801</td>\n",
              "</tr>\n",
              "<tr>\n",
              "  <th>Prob(Omnibus):</th> <td> 0.000</td> <th>  Jarque-Bera (JB):  </th> <td> 377.536</td>\n",
              "</tr>\n",
              "<tr>\n",
              "  <th>Skew:</th>          <td> 1.579</td> <th>  Prob(JB):          </th> <td>1.05e-82</td>\n",
              "</tr>\n",
              "<tr>\n",
              "  <th>Kurtosis:</th>      <td> 8.869</td> <th>  Cond. No.          </th> <td>    24.0</td>\n",
              "</tr>\n",
              "</table><br/><br/>Warnings:<br/>[1] Standard Errors assume that the covariance matrix of the errors is correctly specified."
            ],
            "text/plain": [
              "<class 'statsmodels.iolib.summary.Summary'>\n",
              "\"\"\"\n",
              "                            OLS Regression Results                            \n",
              "==============================================================================\n",
              "Dep. Variable:                  GOOGL   R-squared:                       0.247\n",
              "Model:                            OLS   Adj. R-squared:                  0.244\n",
              "Method:                 Least Squares   F-statistic:                     66.36\n",
              "Date:                Sat, 07 Aug 2021   Prob (F-statistic):           3.85e-14\n",
              "Time:                        07:44:08   Log-Likelihood:                 234.61\n",
              "No. Observations:                 204   AIC:                            -465.2\n",
              "Df Residuals:                     202   BIC:                            -458.6\n",
              "Df Model:                           1                                         \n",
              "Covariance Type:            nonrobust                                         \n",
              "==============================================================================\n",
              "                 coef    std err          t      P>|t|      [0.025      0.975]\n",
              "------------------------------------------------------------------------------\n",
              "const          0.0152      0.005      2.770      0.006       0.004       0.026\n",
              "^GSPC          1.0555      0.130      8.146      0.000       0.800       1.311\n",
              "==============================================================================\n",
              "Omnibus:                       84.415   Durbin-Watson:                   1.801\n",
              "Prob(Omnibus):                  0.000   Jarque-Bera (JB):              377.536\n",
              "Skew:                           1.579   Prob(JB):                     1.05e-82\n",
              "Kurtosis:                       8.869   Cond. No.                         24.0\n",
              "==============================================================================\n",
              "\n",
              "Warnings:\n",
              "[1] Standard Errors assume that the covariance matrix of the errors is correctly specified.\n",
              "\"\"\""
            ]
          },
          "metadata": {
            "tags": []
          },
          "execution_count": 10
        }
      ]
    },
    {
      "cell_type": "code",
      "metadata": {
        "colab": {
          "base_uri": "https://localhost:8080/",
          "height": 299
        },
        "id": "3NlMcCUxKgy-",
        "outputId": "41415541-0885-47f8-9397-b2a11c201b7d"
      },
      "source": [
        "import seaborn as sns\n",
        "sns.regplot(x='^GSPC',y='GOOGL',data=met_ret)"
      ],
      "execution_count": null,
      "outputs": [
        {
          "output_type": "execute_result",
          "data": {
            "text/plain": [
              "<matplotlib.axes._subplots.AxesSubplot at 0x7fb288e5fc10>"
            ]
          },
          "metadata": {
            "tags": []
          },
          "execution_count": 11
        },
        {
          "output_type": "display_data",
          "data": {
            "image/png": "[encoded data removed]",
            "text/plain": [
              "<Figure size 432x288 with 1 Axes>"
            ]
          },
          "metadata": {
            "tags": [],
            "needs_background": "light"
          }
        }
      ]
    }
  ]
}